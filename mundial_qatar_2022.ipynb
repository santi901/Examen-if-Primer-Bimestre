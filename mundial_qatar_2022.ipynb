{
  "cells": [
    {
      "cell_type": "markdown",
      "metadata": {
        "id": "3kSvJZgs8Rb9"
      },
      "source": [
        "## Librerias"
      ]
    },
    {
      "cell_type": "code",
      "execution_count": null,
      "metadata": {
        "id": "4ZyW730Z8Rb_"
      },
      "outputs": [],
      "source": [
        "try:\n",
        "    import pandas as pd\n",
        "except ImportError:\n",
        "    print(\"Pandas not installed\")\n",
        "    %pip install pandas --user\n",
        "\n",
        "try:\n",
        "    import matplotlib.pyplot as plt\n",
        "except ImportError:\n",
        "    print(\"Matplotlib not installed\")\n",
        "    %pip install matplotlib --user\n",
        "\n",
        "import ssl\n",
        "\n",
        "ssl._create_default_https_context = ssl._create_unverified_context"
      ]
    },
    {
      "cell_type": "code",
      "execution_count": null,
      "metadata": {
        "id": "IX1XiBpO8RcD"
      },
      "outputs": [],
      "source": [
        "import pandas as pd\n",
        "import matplotlib.pyplot as plt"
      ]
    },
    {
      "cell_type": "markdown",
      "metadata": {
        "id": "1roakmqh8RcF"
      },
      "source": [
        "## Lectura de datos\n",
        "\n",
        "- [Dataset Qatar 2022: https://www.kaggle.com/datasets/shrikrishnaparab/fifa-world-cup-2022-qatar-match-data](https://www.kaggle.com/datasets/shrikrishnaparab/fifa-world-cup-2022-qatar-match-data)"
      ]
    },
    {
      "cell_type": "code",
      "execution_count": null,
      "metadata": {
        "id": "Ln9krLyk8RcF",
        "outputId": "73ef1f60-f44b-4979-f47d-ef4aaa00f927"
      },
      "outputs": [
        {
          "data": {
            "text/html": [
              "<div>\n",
              "<style scoped>\n",
              "    .dataframe tbody tr th:only-of-type {\n",
              "        vertical-align: middle;\n",
              "    }\n",
              "\n",
              "    .dataframe tbody tr th {\n",
              "        vertical-align: top;\n",
              "    }\n",
              "\n",
              "    .dataframe thead th {\n",
              "        text-align: right;\n",
              "    }\n",
              "</style>\n",
              "<table border=\"1\" class=\"dataframe\">\n",
              "  <thead>\n",
              "    <tr style=\"text-align: right;\">\n",
              "      <th></th>\n",
              "      <th>match_no</th>\n",
              "      <th>day_of_week</th>\n",
              "      <th>date</th>\n",
              "      <th>hour</th>\n",
              "      <th>venue</th>\n",
              "      <th>referee</th>\n",
              "      <th>group</th>\n",
              "      <th>1</th>\n",
              "      <th>2</th>\n",
              "      <th>attendance</th>\n",
              "      <th>...</th>\n",
              "      <th>1_panelties_scored</th>\n",
              "      <th>2_panelties_scored</th>\n",
              "      <th>1_goal_prevented</th>\n",
              "      <th>2_goal_prevented</th>\n",
              "      <th>1_own_goal</th>\n",
              "      <th>2_own_goal</th>\n",
              "      <th>1_forced_turnovers</th>\n",
              "      <th>2_forced_turnovers</th>\n",
              "      <th>1_defensive_pressure_applied</th>\n",
              "      <th>2_defensive_pressure_applied</th>\n",
              "    </tr>\n",
              "  </thead>\n",
              "  <tbody>\n",
              "    <tr>\n",
              "      <th>0</th>\n",
              "      <td>1</td>\n",
              "      <td>Sun</td>\n",
              "      <td>20-Nov-22</td>\n",
              "      <td>17:00</td>\n",
              "      <td>Al Bayt Stadium</td>\n",
              "      <td>Daniele Orsato</td>\n",
              "      <td>Group A</td>\n",
              "      <td>QATAR</td>\n",
              "      <td>ECUADOR</td>\n",
              "      <td>67372</td>\n",
              "      <td>...</td>\n",
              "      <td>0</td>\n",
              "      <td>1</td>\n",
              "      <td>6</td>\n",
              "      <td>5</td>\n",
              "      <td>0</td>\n",
              "      <td>0</td>\n",
              "      <td>52</td>\n",
              "      <td>72</td>\n",
              "      <td>256</td>\n",
              "      <td>279</td>\n",
              "    </tr>\n",
              "    <tr>\n",
              "      <th>1</th>\n",
              "      <td>2</td>\n",
              "      <td>Mon</td>\n",
              "      <td>21-Nov-22</td>\n",
              "      <td>14:00</td>\n",
              "      <td>Khalifa International Stadium</td>\n",
              "      <td>Raphael Claus</td>\n",
              "      <td>Group B</td>\n",
              "      <td>ENGLAND</td>\n",
              "      <td>IRAN</td>\n",
              "      <td>45334</td>\n",
              "      <td>...</td>\n",
              "      <td>0</td>\n",
              "      <td>1</td>\n",
              "      <td>8</td>\n",
              "      <td>13</td>\n",
              "      <td>0</td>\n",
              "      <td>0</td>\n",
              "      <td>63</td>\n",
              "      <td>72</td>\n",
              "      <td>139</td>\n",
              "      <td>416</td>\n",
              "    </tr>\n",
              "    <tr>\n",
              "      <th>2</th>\n",
              "      <td>3</td>\n",
              "      <td>Mon</td>\n",
              "      <td>21-Nov-22</td>\n",
              "      <td>17:00</td>\n",
              "      <td>Al Thumama Stadium</td>\n",
              "      <td>Wilton Sampaio</td>\n",
              "      <td>Group A</td>\n",
              "      <td>SENEGAL</td>\n",
              "      <td>NETHERLANDS</td>\n",
              "      <td>41721</td>\n",
              "      <td>...</td>\n",
              "      <td>0</td>\n",
              "      <td>0</td>\n",
              "      <td>9</td>\n",
              "      <td>15</td>\n",
              "      <td>0</td>\n",
              "      <td>0</td>\n",
              "      <td>63</td>\n",
              "      <td>73</td>\n",
              "      <td>263</td>\n",
              "      <td>251</td>\n",
              "    </tr>\n",
              "    <tr>\n",
              "      <th>3</th>\n",
              "      <td>4</td>\n",
              "      <td>Mon</td>\n",
              "      <td>21-Nov-22</td>\n",
              "      <td>20:00</td>\n",
              "      <td>Ahmed bin Ali Stadium</td>\n",
              "      <td>Abdulrahman Ibrahim Al Jassim</td>\n",
              "      <td>Group B</td>\n",
              "      <td>UNITED STATES</td>\n",
              "      <td>WALES</td>\n",
              "      <td>43418</td>\n",
              "      <td>...</td>\n",
              "      <td>0</td>\n",
              "      <td>1</td>\n",
              "      <td>7</td>\n",
              "      <td>7</td>\n",
              "      <td>0</td>\n",
              "      <td>0</td>\n",
              "      <td>81</td>\n",
              "      <td>72</td>\n",
              "      <td>242</td>\n",
              "      <td>292</td>\n",
              "    </tr>\n",
              "    <tr>\n",
              "      <th>4</th>\n",
              "      <td>5</td>\n",
              "      <td>Tue</td>\n",
              "      <td>22-Nov-22</td>\n",
              "      <td>11:00</td>\n",
              "      <td>Lusail Iconic Stadium</td>\n",
              "      <td>Slavko Vincic</td>\n",
              "      <td>Group C</td>\n",
              "      <td>ARGENTINA</td>\n",
              "      <td>SAUDI ARABIA</td>\n",
              "      <td>88012</td>\n",
              "      <td>...</td>\n",
              "      <td>1</td>\n",
              "      <td>0</td>\n",
              "      <td>4</td>\n",
              "      <td>14</td>\n",
              "      <td>0</td>\n",
              "      <td>0</td>\n",
              "      <td>65</td>\n",
              "      <td>80</td>\n",
              "      <td>163</td>\n",
              "      <td>361</td>\n",
              "    </tr>\n",
              "    <tr>\n",
              "      <th>...</th>\n",
              "      <td>...</td>\n",
              "      <td>...</td>\n",
              "      <td>...</td>\n",
              "      <td>...</td>\n",
              "      <td>...</td>\n",
              "      <td>...</td>\n",
              "      <td>...</td>\n",
              "      <td>...</td>\n",
              "      <td>...</td>\n",
              "      <td>...</td>\n",
              "      <td>...</td>\n",
              "      <td>...</td>\n",
              "      <td>...</td>\n",
              "      <td>...</td>\n",
              "      <td>...</td>\n",
              "      <td>...</td>\n",
              "      <td>...</td>\n",
              "      <td>...</td>\n",
              "      <td>...</td>\n",
              "      <td>...</td>\n",
              "      <td>...</td>\n",
              "    </tr>\n",
              "    <tr>\n",
              "      <th>59</th>\n",
              "      <td>60</td>\n",
              "      <td>Sat</td>\n",
              "      <td>10-Dec-22</td>\n",
              "      <td>20:00</td>\n",
              "      <td>Al Bayt Stadium</td>\n",
              "      <td>Wilton Sampaio</td>\n",
              "      <td>Quarter-final</td>\n",
              "      <td>ENGLAND</td>\n",
              "      <td>FRANCE</td>\n",
              "      <td>68895</td>\n",
              "      <td>...</td>\n",
              "      <td>1</td>\n",
              "      <td>0</td>\n",
              "      <td>9</td>\n",
              "      <td>15</td>\n",
              "      <td>0</td>\n",
              "      <td>0</td>\n",
              "      <td>49</td>\n",
              "      <td>54</td>\n",
              "      <td>193</td>\n",
              "      <td>308</td>\n",
              "    </tr>\n",
              "    <tr>\n",
              "      <th>60</th>\n",
              "      <td>61</td>\n",
              "      <td>Tue</td>\n",
              "      <td>13-Dec-22</td>\n",
              "      <td>20:00</td>\n",
              "      <td>Lusail Iconic Stadium</td>\n",
              "      <td>Daniele Orsato</td>\n",
              "      <td>Semi-Final</td>\n",
              "      <td>ARGENTINA</td>\n",
              "      <td>CROATIA</td>\n",
              "      <td>88966</td>\n",
              "      <td>...</td>\n",
              "      <td>1</td>\n",
              "      <td>0</td>\n",
              "      <td>12</td>\n",
              "      <td>10</td>\n",
              "      <td>0</td>\n",
              "      <td>0</td>\n",
              "      <td>85</td>\n",
              "      <td>63</td>\n",
              "      <td>321</td>\n",
              "      <td>260</td>\n",
              "    </tr>\n",
              "    <tr>\n",
              "      <th>61</th>\n",
              "      <td>62</td>\n",
              "      <td>Wed</td>\n",
              "      <td>14-Dec-22</td>\n",
              "      <td>20:00</td>\n",
              "      <td>Al Bayt Stadium</td>\n",
              "      <td>Cesar Ramos</td>\n",
              "      <td>Semi-Final</td>\n",
              "      <td>FRANCE</td>\n",
              "      <td>MOROCCO</td>\n",
              "      <td>68294</td>\n",
              "      <td>...</td>\n",
              "      <td>0</td>\n",
              "      <td>0</td>\n",
              "      <td>13</td>\n",
              "      <td>14</td>\n",
              "      <td>0</td>\n",
              "      <td>0</td>\n",
              "      <td>72</td>\n",
              "      <td>47</td>\n",
              "      <td>328</td>\n",
              "      <td>218</td>\n",
              "    </tr>\n",
              "    <tr>\n",
              "      <th>62</th>\n",
              "      <td>63</td>\n",
              "      <td>Sat</td>\n",
              "      <td>17-Dec-22</td>\n",
              "      <td>16:00</td>\n",
              "      <td>Khalifa International Stadium</td>\n",
              "      <td>Abdulrahman Ibrahim Al Jassim</td>\n",
              "      <td>Play-off for third place</td>\n",
              "      <td>CROATIA</td>\n",
              "      <td>MOROCCO</td>\n",
              "      <td>44137</td>\n",
              "      <td>...</td>\n",
              "      <td>0</td>\n",
              "      <td>0</td>\n",
              "      <td>7</td>\n",
              "      <td>14</td>\n",
              "      <td>0</td>\n",
              "      <td>0</td>\n",
              "      <td>75</td>\n",
              "      <td>72</td>\n",
              "      <td>288</td>\n",
              "      <td>277</td>\n",
              "    </tr>\n",
              "    <tr>\n",
              "      <th>63</th>\n",
              "      <td>64</td>\n",
              "      <td>Sun</td>\n",
              "      <td>18-Dec-22</td>\n",
              "      <td>16:00</td>\n",
              "      <td>Lusail Iconic Stadium</td>\n",
              "      <td>Szymon Marciniak</td>\n",
              "      <td>Final</td>\n",
              "      <td>ARGENTINA</td>\n",
              "      <td>FRANCE</td>\n",
              "      <td>88966</td>\n",
              "      <td>...</td>\n",
              "      <td>1</td>\n",
              "      <td>2</td>\n",
              "      <td>11</td>\n",
              "      <td>21</td>\n",
              "      <td>0</td>\n",
              "      <td>0</td>\n",
              "      <td>87</td>\n",
              "      <td>104</td>\n",
              "      <td>280</td>\n",
              "      <td>409</td>\n",
              "    </tr>\n",
              "  </tbody>\n",
              "</table>\n",
              "<p>64 rows × 59 columns</p>\n",
              "</div>"
            ],
            "text/plain": [
              "    match_no day_of_week       date   hour                          venue  \\\n",
              "0          1         Sun  20-Nov-22  17:00                Al Bayt Stadium   \n",
              "1          2         Mon  21-Nov-22  14:00  Khalifa International Stadium   \n",
              "2          3         Mon  21-Nov-22  17:00             Al Thumama Stadium   \n",
              "3          4         Mon  21-Nov-22  20:00          Ahmed bin Ali Stadium   \n",
              "4          5         Tue  22-Nov-22  11:00          Lusail Iconic Stadium   \n",
              "..       ...         ...        ...    ...                            ...   \n",
              "59        60         Sat  10-Dec-22  20:00                Al Bayt Stadium   \n",
              "60        61         Tue  13-Dec-22  20:00          Lusail Iconic Stadium   \n",
              "61        62         Wed  14-Dec-22  20:00                Al Bayt Stadium   \n",
              "62        63         Sat  17-Dec-22  16:00  Khalifa International Stadium   \n",
              "63        64         Sun  18-Dec-22  16:00          Lusail Iconic Stadium   \n",
              "\n",
              "                          referee                     group              1  \\\n",
              "0                  Daniele Orsato                   Group A          QATAR   \n",
              "1                   Raphael Claus                   Group B        ENGLAND   \n",
              "2                  Wilton Sampaio                   Group A        SENEGAL   \n",
              "3   Abdulrahman Ibrahim Al Jassim                   Group B  UNITED STATES   \n",
              "4                   Slavko Vincic                   Group C      ARGENTINA   \n",
              "..                            ...                       ...            ...   \n",
              "59                 Wilton Sampaio             Quarter-final        ENGLAND   \n",
              "60                 Daniele Orsato                Semi-Final      ARGENTINA   \n",
              "61                    Cesar Ramos                Semi-Final         FRANCE   \n",
              "62  Abdulrahman Ibrahim Al Jassim  Play-off for third place        CROATIA   \n",
              "63               Szymon Marciniak                     Final      ARGENTINA   \n",
              "\n",
              "               2  attendance  ...  1_panelties_scored  2_panelties_scored  \\\n",
              "0        ECUADOR       67372  ...                   0                   1   \n",
              "1           IRAN       45334  ...                   0                   1   \n",
              "2    NETHERLANDS       41721  ...                   0                   0   \n",
              "3          WALES       43418  ...                   0                   1   \n",
              "4   SAUDI ARABIA       88012  ...                   1                   0   \n",
              "..           ...         ...  ...                 ...                 ...   \n",
              "59        FRANCE       68895  ...                   1                   0   \n",
              "60       CROATIA       88966  ...                   1                   0   \n",
              "61       MOROCCO       68294  ...                   0                   0   \n",
              "62       MOROCCO       44137  ...                   0                   0   \n",
              "63        FRANCE       88966  ...                   1                   2   \n",
              "\n",
              "    1_goal_prevented  2_goal_prevented  1_own_goal  2_own_goal  \\\n",
              "0                  6                 5           0           0   \n",
              "1                  8                13           0           0   \n",
              "2                  9                15           0           0   \n",
              "3                  7                 7           0           0   \n",
              "4                  4                14           0           0   \n",
              "..               ...               ...         ...         ...   \n",
              "59                 9                15           0           0   \n",
              "60                12                10           0           0   \n",
              "61                13                14           0           0   \n",
              "62                 7                14           0           0   \n",
              "63                11                21           0           0   \n",
              "\n",
              "   1_forced_turnovers  2_forced_turnovers  1_defensive_pressure_applied  \\\n",
              "0                  52                  72                           256   \n",
              "1                  63                  72                           139   \n",
              "2                  63                  73                           263   \n",
              "3                  81                  72                           242   \n",
              "4                  65                  80                           163   \n",
              "..                ...                 ...                           ...   \n",
              "59                 49                  54                           193   \n",
              "60                 85                  63                           321   \n",
              "61                 72                  47                           328   \n",
              "62                 75                  72                           288   \n",
              "63                 87                 104                           280   \n",
              "\n",
              "    2_defensive_pressure_applied  \n",
              "0                            279  \n",
              "1                            416  \n",
              "2                            251  \n",
              "3                            292  \n",
              "4                            361  \n",
              "..                           ...  \n",
              "59                           308  \n",
              "60                           260  \n",
              "61                           218  \n",
              "62                           277  \n",
              "63                           409  \n",
              "\n",
              "[64 rows x 59 columns]"
            ]
          },
          "execution_count": 6,
          "metadata": {},
          "output_type": "execute_result"
        }
      ],
      "source": [
        "archivo = \"https://raw.githubusercontent.com/IgnacioPardo/Tecnologias_Exponenciales_2025/refs/heads/main/qatar.csv\"\n",
        "\n",
        "# Leer datos del archivo\n",
        "mundial : pd.DataFrame = pd.read_csv(archivo)\n",
        "mundial"
      ]
    },
    {
      "cell_type": "code",
      "execution_count": null,
      "metadata": {
        "id": "o3MfZEpU8RcG"
      },
      "outputs": [],
      "source": [
        "# Cuantos partidos se jugaron?\n",
        "# Completar\n",
        "cantidad_partidos = len(mundial)\n",
        "cantidad_partidos"
      ]
    },
    {
      "cell_type": "code",
      "execution_count": null,
      "metadata": {
        "id": "VE2XRez18RcH"
      },
      "outputs": [],
      "source": [
        "# Que datos tiene el dataset? (Pista: usar .info(), .describe(), .columns, .head())\n",
        "# Checkear columnas\n",
        "# Completar"
      ]
    },
    {
      "cell_type": "markdown",
      "metadata": {
        "id": "s0sUjGBj8RcI"
      },
      "source": [
        "## Analisis"
      ]
    },
    {
      "cell_type": "markdown",
      "metadata": {
        "id": "duP6npuX8RcJ"
      },
      "source": [
        "### Primera Parte"
      ]
    },
    {
      "cell_type": "code",
      "execution_count": null,
      "metadata": {
        "id": "muePWIKo8RcJ"
      },
      "outputs": [],
      "source": [
        "# Cuantas selecciones participaron?\n",
        "# Completar"
      ]
    },
    {
      "cell_type": "code",
      "execution_count": null,
      "metadata": {
        "id": "Lzegb5Hl8RcK"
      },
      "outputs": [],
      "source": [
        "# Cuantas fases tiene el mundial?\n",
        "# Completar"
      ]
    },
    {
      "cell_type": "code",
      "execution_count": null,
      "metadata": {
        "id": "A4xTUflZ8RcK"
      },
      "outputs": [],
      "source": [
        "# Cual fue la \"attendance\" promedio por partido?\n",
        "# Completar"
      ]
    },
    {
      "cell_type": "code",
      "execution_count": null,
      "metadata": {
        "id": "8CAcWU378RcL"
      },
      "outputs": [],
      "source": [
        "# Cual fue el partido con mas diferencia de goles?\n",
        "# Completar"
      ]
    },
    {
      "cell_type": "code",
      "execution_count": null,
      "metadata": {
        "id": "kytZ_oyE8RcL"
      },
      "outputs": [],
      "source": [
        "# Cual es la selección que mas penales metió?\n",
        "# Completar"
      ]
    },
    {
      "cell_type": "code",
      "execution_count": null,
      "metadata": {
        "id": "H3VdY-V_8RcM"
      },
      "outputs": [],
      "source": [
        "# Cual es la selección que mas penales le hicieron?\n",
        "# Completar"
      ]
    },
    {
      "cell_type": "markdown",
      "metadata": {
        "id": "wcyHh4Fj8RcM"
      },
      "source": [
        "### Segunda Parte"
      ]
    },
    {
      "cell_type": "code",
      "execution_count": null,
      "metadata": {
        "id": "35i3gDYd8RcM"
      },
      "outputs": [],
      "source": [
        "equipo : str = \"ARGENTINA\""
      ]
    },
    {
      "cell_type": "code",
      "execution_count": null,
      "metadata": {
        "id": "dv9mT8dV8RcN"
      },
      "outputs": [],
      "source": [
        "# Seleccionar todos los partidos que jugo el equipo de \"local\"\n",
        "# Completar\n",
        "\n",
        "filtroLocal : pd.Series ="
      ]
    },
    {
      "cell_type": "code",
      "execution_count": null,
      "metadata": {
        "id": "hAqd5WA48RcN"
      },
      "outputs": [],
      "source": [
        "# Seleccionar todos los partidos que jugo el equipo de \"visitante\"\n",
        "# Completar\n",
        "\n",
        "filtroVisitante : pd.Series ="
      ]
    },
    {
      "cell_type": "code",
      "execution_count": null,
      "metadata": {
        "id": "RojYHknz8RcN"
      },
      "outputs": [],
      "source": [
        "# Seleccionar todos los partidos que jugo el equipo (de \"local\" o \"visitante\")\n",
        "# Completar\n",
        "\n",
        "partidos : pd.DataFrame =\n"
      ]
    },
    {
      "cell_type": "code",
      "execution_count": null,
      "metadata": {
        "id": "okQ6nKPi8RcO"
      },
      "outputs": [],
      "source": [
        "# Cuantos goles hizo el equipo en total (obtener los goles metidos de local y sumarlos con los goles metidos de visitante)\n",
        "# Completar\n",
        "\n",
        "goles : int ="
      ]
    },
    {
      "cell_type": "code",
      "execution_count": null,
      "metadata": {
        "id": "UTiaGSNZ8RcO"
      },
      "outputs": [],
      "source": [
        "# Cuantos goles hizo el equipo en promedio\n",
        "# Completar"
      ]
    },
    {
      "cell_type": "code",
      "execution_count": null,
      "metadata": {
        "id": "n3m1KwcH8RcO"
      },
      "outputs": [],
      "source": [
        "# Cuantos partidos gano el equipo\n",
        "# Completar\n",
        "\n",
        "ganados : int ="
      ]
    },
    {
      "cell_type": "code",
      "execution_count": null,
      "metadata": {
        "id": "6QWtqea48RcO"
      },
      "outputs": [],
      "source": [
        "# Graficar los goles hechos por el equipo en cada partido\n",
        "\n",
        "fig, ax = plt.subplots()\n",
        "# Completar"
      ]
    },
    {
      "cell_type": "markdown",
      "metadata": {
        "id": "pzWODM7s8RcP"
      },
      "source": [
        "### Tercera Parte"
      ]
    },
    {
      "cell_type": "code",
      "execution_count": null,
      "metadata": {
        "id": "HfZGEJCI8RcP"
      },
      "outputs": [],
      "source": [
        "# Contar cuantos goles hizo cada equipo en total en el mundial\n",
        "# Completar\n",
        "\n",
        "equipos =\n",
        "goles ="
      ]
    },
    {
      "cell_type": "code",
      "execution_count": null,
      "metadata": {
        "id": "DEPcde2x8RcP"
      },
      "outputs": [],
      "source": [
        "# Graficar los goles por equipo en todo el mundial\n",
        "\n",
        "fig, ax = plt.subplots()\n",
        "# Completar"
      ]
    },
    {
      "cell_type": "code",
      "execution_count": null,
      "metadata": {
        "id": "x-DxZZjF8RcP"
      },
      "outputs": [],
      "source": [
        "# Cual es el equipo que hizo mas goles en el mundial?\n",
        "# Completar"
      ]
    },
    {
      "cell_type": "code",
      "execution_count": null,
      "metadata": {
        "id": "x2nS4i3H8RcQ"
      },
      "outputs": [],
      "source": [
        "# Por cada partido, cual fue la diferencia de goles?\n",
        "# Completar"
      ]
    },
    {
      "cell_type": "code",
      "execution_count": null,
      "metadata": {
        "id": "UyRlgOyx8RcQ"
      },
      "outputs": [],
      "source": [
        "# Por cada partido, cual fue el equipo que gano?\n",
        "# Completar"
      ]
    },
    {
      "cell_type": "code",
      "execution_count": null,
      "metadata": {
        "id": "Fup8CLM58RcQ"
      },
      "outputs": [],
      "source": [
        "# En cada fase del mundial, cual fue el equipo que hizo mas goles?\n",
        "# Completar"
      ]
    },
    {
      "cell_type": "markdown",
      "metadata": {
        "id": "CfWx0QaU8RcQ"
      },
      "source": [
        "### Tercera Parte"
      ]
    },
    {
      "cell_type": "code",
      "execution_count": null,
      "metadata": {
        "id": "TjRIhy3c8RcR"
      },
      "outputs": [],
      "source": [
        "# Armar un gráfico a partir de algun nuevo análisis que se te ocurra\n",
        "# Completar"
      ]
    }
  ],
  "metadata": {
    "kernelspec": {
      "display_name": "coding",
      "language": "python",
      "name": "python3"
    },
    "language_info": {
      "codemirror_mode": {
        "name": "ipython",
        "version": 3
      },
      "file_extension": ".py",
      "mimetype": "text/x-python",
      "name": "python",
      "nbconvert_exporter": "python",
      "pygments_lexer": "ipython3",
      "version": "3.8.12"
    },
    "colab": {
      "provenance": []
    }
  },
  "nbformat": 4,
  "nbformat_minor": 0
}